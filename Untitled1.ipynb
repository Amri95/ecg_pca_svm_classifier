{
 "cells": [
  {
   "cell_type": "code",
   "execution_count": 1,
   "metadata": {},
   "outputs": [],
   "source": [
    "import numpy as np\n",
    "size = 10000\n",
    "a = np.random.random_sample((size, size))\n",
    "b = np.random.random_sample((size, size))\n",
    "n = np.dot(a,b)"
   ]
  },
  {
   "cell_type": "code",
   "execution_count": 2,
   "metadata": {},
   "outputs": [
    {
     "data": {
      "text/plain": [
       "array([[2467.71386355, 2524.60210136, 2488.85001865, ..., 2507.90893143,\n",
       "        2491.03988627, 2491.6667449 ],\n",
       "       [2464.41531251, 2535.08700478, 2509.12720951, ..., 2503.23748215,\n",
       "        2471.32645276, 2497.3759531 ],\n",
       "       [2483.76870722, 2545.05651772, 2506.39643475, ..., 2529.15654732,\n",
       "        2503.98156137, 2540.37036935],\n",
       "       ...,\n",
       "       [2455.40802518, 2504.68575364, 2471.54287258, ..., 2484.49121894,\n",
       "        2482.19526549, 2485.42152334],\n",
       "       [2511.88747062, 2545.83188258, 2522.33034968, ..., 2527.79715147,\n",
       "        2526.21188896, 2530.91452359],\n",
       "       [2438.26694167, 2494.59830177, 2462.61810049, ..., 2477.35757755,\n",
       "        2456.77061132, 2471.96808955]])"
      ]
     },
     "execution_count": 2,
     "metadata": {},
     "output_type": "execute_result"
    }
   ],
   "source": [
    "n"
   ]
  },
  {
   "cell_type": "code",
   "execution_count": null,
   "metadata": {},
   "outputs": [],
   "source": []
  }
 ],
 "metadata": {
  "kernelspec": {
   "display_name": "Python 3",
   "language": "python",
   "name": "python3"
  },
  "language_info": {
   "codemirror_mode": {
    "name": "ipython",
    "version": 3
   },
   "file_extension": ".py",
   "mimetype": "text/x-python",
   "name": "python",
   "nbconvert_exporter": "python",
   "pygments_lexer": "ipython3",
   "version": "3.7.1"
  }
 },
 "nbformat": 4,
 "nbformat_minor": 2
}
